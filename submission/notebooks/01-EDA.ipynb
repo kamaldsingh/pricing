{
 "cells": [
  {
   "cell_type": "markdown",
   "id": "6a72601c-8220-4b62-9638-70ff731f16d5",
   "metadata": {},
   "source": [
    "An imaginary company in the 36th century called ABC Technologies provides telecom and communication product and services in the B2B space. The company wants to build a more personalized pricing policies for its customer and for this they have contacted you to build a pricing model.\n",
    "Model Goal - \"Build a model to predict prices for customers\"\n",
    "Target variable- contract_value\n",
    "\n",
    "Key considerations - \n",
    "1. Contract value cannot be zero or lesser\n",
    "2. The latest contracts defines the current market trend \n",
    "3. Team does not trust ML models so you need to explain the model decisions\n",
    "4.  Team believes in reading code so you need to provide well commented code\n",
    "5. There are data quality issues, you are expected to process and clean the data. You are free to assume the data quality definition, but you are expected to provide the details of assumptions made. \n",
    "6. You are free to take decisions on feature engineering and feature selection. “usage of internet” & “store city” columns are mandatory to be used for modelling.\n",
    "\n",
    "Key deliverables \n",
    "1. Modular code for all the pipelines (can be jupyter notebook or .py files)\n",
    "2. Data Analysis jupyter notebook\n",
    "\n",
    "Evaluation Criteria\n",
    "    1. Clean and readable code\n",
    "    2. R2 score and RMSE\n",
    "    3. Model choices and explanation"
   ]
  },
  {
   "cell_type": "code",
   "execution_count": 2,
   "id": "482a6670-ef28-405d-b611-7b1ff2c0af9b",
   "metadata": {},
   "outputs": [],
   "source": [
    "%run mlhelpers.py"
   ]
  },
  {
   "cell_type": "code",
   "execution_count": 3,
   "id": "9502be1d-8101-4b6e-b3e2-f137116737b7",
   "metadata": {},
   "outputs": [],
   "source": [
    "%matplotlib inline"
   ]
  },
  {
   "cell_type": "code",
   "execution_count": 4,
   "id": "e014da4a-c9e6-4075-892c-000fddf0acc9",
   "metadata": {},
   "outputs": [
    {
     "name": "stdout",
     "output_type": "stream",
     "text": [
      "(234788, 17)\n"
     ]
    },
    {
     "data": {
      "text/html": [
       "<div>\n",
       "<style scoped>\n",
       "    .dataframe tbody tr th:only-of-type {\n",
       "        vertical-align: middle;\n",
       "    }\n",
       "\n",
       "    .dataframe tbody tr th {\n",
       "        vertical-align: top;\n",
       "    }\n",
       "\n",
       "    .dataframe thead th {\n",
       "        text-align: right;\n",
       "    }\n",
       "</style>\n",
       "<table border=\"1\" class=\"dataframe\">\n",
       "  <thead>\n",
       "    <tr style=\"text-align: right;\">\n",
       "      <th></th>\n",
       "      <th>contract_segment</th>\n",
       "      <th>contract_value</th>\n",
       "      <th>contract_date</th>\n",
       "      <th>customer_type</th>\n",
       "      <th>client $$65 line 6ofbusiness</th>\n",
       "      <th>contract validity ststa</th>\n",
       "      <th>contract validity fins h</th>\n",
       "      <th>unneccesary_flag</th>\n",
       "      <th>contract_base</th>\n",
       "      <th>Level1</th>\n",
       "      <th>Level 3 #6375</th>\n",
       "      <th>Level2</th>\n",
       "      <th>internet_line</th>\n",
       "      <th>store city</th>\n",
       "      <th>code</th>\n",
       "      <th>usage of internet</th>\n",
       "      <th>customer Id</th>\n",
       "    </tr>\n",
       "  </thead>\n",
       "  <tbody>\n",
       "    <tr>\n",
       "      <th>0</th>\n",
       "      <td>Level1</td>\n",
       "      <td>78.216902</td>\n",
       "      <td>4/15/3604</td>\n",
       "      <td>Near Term</td>\n",
       "      <td>Type2</td>\n",
       "      <td>7/1/3604</td>\n",
       "      <td>10/31/3604</td>\n",
       "      <td>NO</td>\n",
       "      <td>Type1</td>\n",
       "      <td>Base Service</td>\n",
       "      <td>Internet Service office</td>\n",
       "      <td>Service 1</td>\n",
       "      <td>Internet</td>\n",
       "      <td>MADURAI</td>\n",
       "      <td>NaN</td>\n",
       "      <td>Calling</td>\n",
       "      <td>551617</td>\n",
       "    </tr>\n",
       "    <tr>\n",
       "      <th>1</th>\n",
       "      <td>Level1</td>\n",
       "      <td>78.216902</td>\n",
       "      <td>4/15/3604</td>\n",
       "      <td>Near Term</td>\n",
       "      <td>Type2</td>\n",
       "      <td>7/1/3604</td>\n",
       "      <td>10/31/3604</td>\n",
       "      <td>NO</td>\n",
       "      <td>Type1</td>\n",
       "      <td>Base Service</td>\n",
       "      <td>Internet Service office</td>\n",
       "      <td>Service 1</td>\n",
       "      <td>Internet</td>\n",
       "      <td>MADURAI</td>\n",
       "      <td>NaN</td>\n",
       "      <td>Calling</td>\n",
       "      <td>551617</td>\n",
       "    </tr>\n",
       "    <tr>\n",
       "      <th>2</th>\n",
       "      <td>Level1</td>\n",
       "      <td>78.216902</td>\n",
       "      <td>4/15/3604</td>\n",
       "      <td>Near Term</td>\n",
       "      <td>Type2</td>\n",
       "      <td>7/1/3604</td>\n",
       "      <td>10/31/3604</td>\n",
       "      <td>NO</td>\n",
       "      <td>Type1</td>\n",
       "      <td>Base Service</td>\n",
       "      <td>Internet Service office</td>\n",
       "      <td>Service 1</td>\n",
       "      <td>Internet</td>\n",
       "      <td>MADURAI</td>\n",
       "      <td>NaN</td>\n",
       "      <td>Calling</td>\n",
       "      <td>551617</td>\n",
       "    </tr>\n",
       "    <tr>\n",
       "      <th>3</th>\n",
       "      <td>Level1</td>\n",
       "      <td>42.695289</td>\n",
       "      <td>4/15/3604</td>\n",
       "      <td>Near Term</td>\n",
       "      <td>Type2</td>\n",
       "      <td>7/1/3604</td>\n",
       "      <td>10/31/3604</td>\n",
       "      <td>NO</td>\n",
       "      <td>Type1</td>\n",
       "      <td>Base Service</td>\n",
       "      <td>Internet Service office</td>\n",
       "      <td>Service 1</td>\n",
       "      <td>Internet</td>\n",
       "      <td>MADURAI</td>\n",
       "      <td>NaN</td>\n",
       "      <td>Calling</td>\n",
       "      <td>551617</td>\n",
       "    </tr>\n",
       "    <tr>\n",
       "      <th>4</th>\n",
       "      <td>Level1</td>\n",
       "      <td>90.765416</td>\n",
       "      <td>4/15/3604</td>\n",
       "      <td>Near Term</td>\n",
       "      <td>Type2</td>\n",
       "      <td>7/1/3604</td>\n",
       "      <td>10/31/3604</td>\n",
       "      <td>NO</td>\n",
       "      <td>Type1</td>\n",
       "      <td>Base Service</td>\n",
       "      <td>Internet Service office</td>\n",
       "      <td>Service 1</td>\n",
       "      <td>Internet</td>\n",
       "      <td>MADURAI</td>\n",
       "      <td>NaN</td>\n",
       "      <td>Calling</td>\n",
       "      <td>551617</td>\n",
       "    </tr>\n",
       "  </tbody>\n",
       "</table>\n",
       "</div>"
      ],
      "text/plain": [
       "  contract_segment  contract_value contract_date customer_type  \\\n",
       "0          Level1        78.216902     4/15/3604     Near Term   \n",
       "1          Level1        78.216902     4/15/3604     Near Term   \n",
       "2          Level1        78.216902     4/15/3604     Near Term   \n",
       "3          Level1        42.695289     4/15/3604     Near Term   \n",
       "4          Level1        90.765416     4/15/3604     Near Term   \n",
       "\n",
       "  client $$65 line 6ofbusiness  contract validity ststa  \\\n",
       "0                         Type2                7/1/3604   \n",
       "1                         Type2                7/1/3604   \n",
       "2                         Type2                7/1/3604   \n",
       "3                         Type2                7/1/3604   \n",
       "4                         Type2                7/1/3604   \n",
       "\n",
       "  contract validity fins h unneccesary_flag contract_base        Level1  \\\n",
       "0               10/31/3604               NO        Type1   Base Service   \n",
       "1               10/31/3604               NO        Type1   Base Service   \n",
       "2               10/31/3604               NO        Type1   Base Service   \n",
       "3               10/31/3604               NO        Type1   Base Service   \n",
       "4               10/31/3604               NO        Type1   Base Service   \n",
       "\n",
       "             Level 3 #6375   Level2   internet_line store city code  \\\n",
       "0  Internet Service office  Service 1      Internet    MADURAI  NaN   \n",
       "1  Internet Service office  Service 1      Internet    MADURAI  NaN   \n",
       "2  Internet Service office  Service 1      Internet    MADURAI  NaN   \n",
       "3  Internet Service office  Service 1      Internet    MADURAI  NaN   \n",
       "4  Internet Service office  Service 1      Internet    MADURAI  NaN   \n",
       "\n",
       "  usage of internet  customer Id  \n",
       "0           Calling       551617  \n",
       "1           Calling       551617  \n",
       "2           Calling       551617  \n",
       "3           Calling       551617  \n",
       "4           Calling       551617  "
      ]
     },
     "execution_count": 4,
     "metadata": {},
     "output_type": "execute_result"
    }
   ],
   "source": [
    "df = pd.read_csv('../data/assignment_data.csv')\n",
    "print(df.shape)\n",
    "df.head()"
   ]
  },
  {
   "cell_type": "code",
   "execution_count": 5,
   "id": "f83c3fd3-4fbe-43ff-98a6-bc4ef9be3f74",
   "metadata": {},
   "outputs": [],
   "source": [
    "df.rename(columns = {'client $$65 line 6ofbusiness ':'client_line_of_business','Level 3 #6375':'Level_3'},inplace=True)"
   ]
  },
  {
   "cell_type": "code",
   "execution_count": 6,
   "id": "69f266d5-0f73-4b07-8692-e38dab59db5f",
   "metadata": {},
   "outputs": [
    {
     "data": {
      "text/plain": [
       "Index(['contract_segment', 'contract_value', 'contract_date', 'customer_type',\n",
       "       'client_line_of_business', 'contract validity ststa',\n",
       "       'contract validity fins h', 'unneccesary_flag', 'contract_base',\n",
       "       'Level1', 'Level_3', 'Level2  ', 'internet_line', 'store city', 'code',\n",
       "       'usage of internet', 'customer Id'],\n",
       "      dtype='object')"
      ]
     },
     "execution_count": 6,
     "metadata": {},
     "output_type": "execute_result"
    }
   ],
   "source": [
    "df.columns"
   ]
  },
  {
   "cell_type": "markdown",
   "id": "97655491-204f-45d4-8bed-8fce497bc82a",
   "metadata": {},
   "source": [
    "## Removing outliers / invalid values"
   ]
  },
  {
   "cell_type": "markdown",
   "id": "0afb3963-4a48-4019-ad96-e424f1c3ded8",
   "metadata": {},
   "source": [
    "**Contract value cannot be zero or lesser**"
   ]
  },
  {
   "cell_type": "code",
   "execution_count": 7,
   "id": "1d8ca301-c86f-4dd1-9c17-b0f6d5a23bb6",
   "metadata": {},
   "outputs": [
    {
     "name": "stdout",
     "output_type": "stream",
     "text": [
      "(7017, 17)\n"
     ]
    }
   ],
   "source": [
    "print(df[df.contract_value<=0].shape)\n",
    "df = df[df.contract_value>0]"
   ]
  },
  {
   "cell_type": "code",
   "execution_count": 8,
   "id": "926b70f5-90f1-4b93-a93a-076d20f8cf8b",
   "metadata": {},
   "outputs": [],
   "source": [
    "df = df.drop_duplicates()"
   ]
  },
  {
   "cell_type": "markdown",
   "id": "4fc46563-9162-4e18-b522-c0dcc30248dc",
   "metadata": {},
   "source": [
    "why have more than 1 entry except contract value?"
   ]
  },
  {
   "cell_type": "code",
   "execution_count": 9,
   "id": "fcee0190-0d7e-474a-8b6e-0d5256741955",
   "metadata": {},
   "outputs": [],
   "source": [
    "df = df.drop_duplicates(subset=['contract_segment', 'contract_date', 'customer_type',\n",
    "       'client_line_of_business', 'contract validity ststa',\n",
    "       'contract validity fins h', 'unneccesary_flag', 'contract_base',\n",
    "       'Level1', 'Level_3', 'Level2  ', 'internet_line', 'store city',\n",
    "       'code', 'usage of internet', 'customer Id'])"
   ]
  },
  {
   "cell_type": "code",
   "execution_count": 10,
   "id": "6418c057-90e1-4367-9a9c-bae6818d67d0",
   "metadata": {},
   "outputs": [
    {
     "name": "stdout",
     "output_type": "stream",
     "text": [
      "1729\n"
     ]
    },
    {
     "data": {
      "text/plain": [
       "(72867, 17)"
      ]
     },
     "execution_count": 10,
     "metadata": {},
     "output_type": "execute_result"
    }
   ],
   "source": [
    "print(df['customer Id'].nunique())\n",
    "df.shape"
   ]
  },
  {
   "cell_type": "code",
   "execution_count": 11,
   "id": "7212c23a-7c11-4284-b829-ecf80ca58fc3",
   "metadata": {},
   "outputs": [
    {
     "data": {
      "text/html": [
       "<div>\n",
       "<style scoped>\n",
       "    .dataframe tbody tr th:only-of-type {\n",
       "        vertical-align: middle;\n",
       "    }\n",
       "\n",
       "    .dataframe tbody tr th {\n",
       "        vertical-align: top;\n",
       "    }\n",
       "\n",
       "    .dataframe thead th {\n",
       "        text-align: right;\n",
       "    }\n",
       "</style>\n",
       "<table border=\"1\" class=\"dataframe\">\n",
       "  <thead>\n",
       "    <tr style=\"text-align: right;\">\n",
       "      <th></th>\n",
       "      <th>contract_segment</th>\n",
       "      <th>contract_value</th>\n",
       "      <th>contract_date</th>\n",
       "      <th>customer_type</th>\n",
       "      <th>client_line_of_business</th>\n",
       "      <th>contract validity ststa</th>\n",
       "      <th>contract validity fins h</th>\n",
       "      <th>unneccesary_flag</th>\n",
       "      <th>contract_base</th>\n",
       "      <th>Level1</th>\n",
       "      <th>Level_3</th>\n",
       "      <th>Level2</th>\n",
       "      <th>internet_line</th>\n",
       "      <th>store city</th>\n",
       "      <th>code</th>\n",
       "      <th>usage of internet</th>\n",
       "      <th>customer Id</th>\n",
       "    </tr>\n",
       "  </thead>\n",
       "  <tbody>\n",
       "    <tr>\n",
       "      <th>0</th>\n",
       "      <td>Level1</td>\n",
       "      <td>78.216902</td>\n",
       "      <td>4/15/3604</td>\n",
       "      <td>Near Term</td>\n",
       "      <td>Type2</td>\n",
       "      <td>7/1/3604</td>\n",
       "      <td>10/31/3604</td>\n",
       "      <td>NO</td>\n",
       "      <td>Type1</td>\n",
       "      <td>Base Service</td>\n",
       "      <td>Internet Service office</td>\n",
       "      <td>Service 1</td>\n",
       "      <td>Internet</td>\n",
       "      <td>MADURAI</td>\n",
       "      <td>NaN</td>\n",
       "      <td>Calling</td>\n",
       "      <td>551617</td>\n",
       "    </tr>\n",
       "    <tr>\n",
       "      <th>5</th>\n",
       "      <td>Level2</td>\n",
       "      <td>58.628879</td>\n",
       "      <td>11/7/3604</td>\n",
       "      <td>Near Term</td>\n",
       "      <td>Type2</td>\n",
       "      <td>1/1/3605</td>\n",
       "      <td>2/28/3605</td>\n",
       "      <td>NO</td>\n",
       "      <td>Type1</td>\n",
       "      <td>Base Service</td>\n",
       "      <td>Internet Service office</td>\n",
       "      <td>Service 1</td>\n",
       "      <td>Internet</td>\n",
       "      <td>MADURAI</td>\n",
       "      <td>NaN</td>\n",
       "      <td>Calling</td>\n",
       "      <td>551617</td>\n",
       "    </tr>\n",
       "    <tr>\n",
       "      <th>7</th>\n",
       "      <td>Level4</td>\n",
       "      <td>75.540066</td>\n",
       "      <td>11/25/3604</td>\n",
       "      <td>Near Term</td>\n",
       "      <td>Type2</td>\n",
       "      <td>11/25/3604</td>\n",
       "      <td>11/30/3604</td>\n",
       "      <td>NO</td>\n",
       "      <td>Type1</td>\n",
       "      <td>Base Service</td>\n",
       "      <td>Internet Service office</td>\n",
       "      <td>Service 1</td>\n",
       "      <td>Internet</td>\n",
       "      <td>MADURAI</td>\n",
       "      <td>NaN</td>\n",
       "      <td>Calling</td>\n",
       "      <td>551617</td>\n",
       "    </tr>\n",
       "    <tr>\n",
       "      <th>8</th>\n",
       "      <td>Level4</td>\n",
       "      <td>75.384003</td>\n",
       "      <td>11/26/3604</td>\n",
       "      <td>Near Term</td>\n",
       "      <td>Type2</td>\n",
       "      <td>12/1/3604</td>\n",
       "      <td>12/31/3604</td>\n",
       "      <td>NO</td>\n",
       "      <td>Type1</td>\n",
       "      <td>Base Service</td>\n",
       "      <td>Internet Service office</td>\n",
       "      <td>Service 1</td>\n",
       "      <td>Internet</td>\n",
       "      <td>MADURAI</td>\n",
       "      <td>NaN</td>\n",
       "      <td>Calling</td>\n",
       "      <td>551617</td>\n",
       "    </tr>\n",
       "    <tr>\n",
       "      <th>9</th>\n",
       "      <td>Level1</td>\n",
       "      <td>59.372384</td>\n",
       "      <td>12/3/3604</td>\n",
       "      <td>Near Term</td>\n",
       "      <td>Type2</td>\n",
       "      <td>3/1/3605</td>\n",
       "      <td>3/31/3605</td>\n",
       "      <td>NO</td>\n",
       "      <td>Type1</td>\n",
       "      <td>Base Service</td>\n",
       "      <td>Internet Service office</td>\n",
       "      <td>Service 1</td>\n",
       "      <td>Internet</td>\n",
       "      <td>MADURAI</td>\n",
       "      <td>NaN</td>\n",
       "      <td>Calling</td>\n",
       "      <td>551617</td>\n",
       "    </tr>\n",
       "  </tbody>\n",
       "</table>\n",
       "</div>"
      ],
      "text/plain": [
       "  contract_segment  contract_value contract_date customer_type  \\\n",
       "0          Level1        78.216902     4/15/3604     Near Term   \n",
       "5           Level2       58.628879     11/7/3604     Near Term   \n",
       "7           Level4       75.540066    11/25/3604     Near Term   \n",
       "8           Level4       75.384003    11/26/3604     Near Term   \n",
       "9          Level1        59.372384     12/3/3604     Near Term   \n",
       "\n",
       "  client_line_of_business contract validity ststa contract validity fins h  \\\n",
       "0                   Type2                7/1/3604               10/31/3604   \n",
       "5                   Type2                1/1/3605                2/28/3605   \n",
       "7                   Type2              11/25/3604               11/30/3604   \n",
       "8                   Type2               12/1/3604               12/31/3604   \n",
       "9                   Type2                3/1/3605                3/31/3605   \n",
       "\n",
       "  unneccesary_flag contract_base        Level1                  Level_3  \\\n",
       "0               NO        Type1   Base Service  Internet Service office   \n",
       "5               NO        Type1   Base Service  Internet Service office   \n",
       "7               NO        Type1   Base Service  Internet Service office   \n",
       "8               NO        Type1   Base Service  Internet Service office   \n",
       "9               NO        Type1   Base Service  Internet Service office   \n",
       "\n",
       "    Level2   internet_line store city code usage of internet  customer Id  \n",
       "0  Service 1      Internet    MADURAI  NaN           Calling       551617  \n",
       "5  Service 1      Internet    MADURAI  NaN           Calling       551617  \n",
       "7  Service 1      Internet    MADURAI  NaN           Calling       551617  \n",
       "8  Service 1      Internet    MADURAI  NaN           Calling       551617  \n",
       "9  Service 1      Internet    MADURAI  NaN           Calling       551617  "
      ]
     },
     "execution_count": 11,
     "metadata": {},
     "output_type": "execute_result"
    }
   ],
   "source": [
    "df.head()"
   ]
  },
  {
   "cell_type": "markdown",
   "id": "1fc1e272-092b-44e4-8a77-09e356183dba",
   "metadata": {},
   "source": [
    "## Handling data types"
   ]
  },
  {
   "cell_type": "code",
   "execution_count": 12,
   "id": "08bc71cb-624a-43b2-a0c1-3742e1342857",
   "metadata": {},
   "outputs": [
    {
     "data": {
      "text/plain": [
       "contract_segment             object\n",
       "contract_value              float64\n",
       "contract_date                object\n",
       "customer_type                object\n",
       "client_line_of_business      object\n",
       "contract validity ststa      object\n",
       "contract validity fins h     object\n",
       "unneccesary_flag             object\n",
       "contract_base                object\n",
       "Level1                       object\n",
       "Level_3                      object\n",
       "Level2                       object\n",
       "internet_line                object\n",
       "store city                   object\n",
       "code                         object\n",
       "usage of internet            object\n",
       "customer Id                   int64\n",
       "dtype: object"
      ]
     },
     "execution_count": 12,
     "metadata": {},
     "output_type": "execute_result"
    }
   ],
   "source": [
    "df.dtypes"
   ]
  },
  {
   "cell_type": "code",
   "execution_count": 13,
   "id": "e471e756-0753-4324-9940-eff1a3c60abd",
   "metadata": {},
   "outputs": [],
   "source": [
    "df['validity_st'] = pd.to_datetime(df['contract validity ststa'].astype(str).apply(lambda x: str(int(x.split('/')[2])-1600)\\\n",
    "                                                               +'-'+x.split('/')[0]+'-'+x.split('/')[1]))\n",
    "df['validity_end'] = pd.to_datetime(df['contract validity fins h'].astype(str).apply(lambda x: str(int(x.split('/')[2])-1600)\\\n",
    "                                                               +'-'+x.split('/')[0]+'-'+x.split('/')[1]))"
   ]
  },
  {
   "cell_type": "code",
   "execution_count": 14,
   "id": "67bf1b8b-d40b-4671-a031-d27d70dff3bd",
   "metadata": {},
   "outputs": [],
   "source": [
    "df['contract_length'] = (df['validity_end'] - df['validity_st']).apply(lambda x: x.days/365)"
   ]
  },
  {
   "cell_type": "code",
   "execution_count": 15,
   "id": "c4b9865e-de4d-4daa-bbae-dbe01634b34d",
   "metadata": {},
   "outputs": [],
   "source": [
    "df['contract_date'] = pd.to_datetime(df['contract_date'].astype(str).apply(lambda x: str(int(x.split('/')[2])-1600)\\\n",
    "                                        +'-'+x.split('/')[0]+'-'+x.split('/')[1]))\n",
    "\n",
    "df['contract_age'] = df.contract_date.apply(lambda x: (datetime.now()-x).days/365)"
   ]
  },
  {
   "cell_type": "code",
   "execution_count": 16,
   "id": "56d6bf5c-ffdb-494d-98be-b16681924809",
   "metadata": {},
   "outputs": [],
   "source": [
    "df_train = df.drop(columns = ['contract validity ststa','contract validity fins h'])"
   ]
  },
  {
   "cell_type": "code",
   "execution_count": 17,
   "id": "2e1fa9d5-6ae4-4c13-b0bf-59338c48b97f",
   "metadata": {},
   "outputs": [],
   "source": [
    "df_train.unneccesary_flag = df_train.unneccesary_flag.apply(lambda x: convert_boolean(x))"
   ]
  },
  {
   "cell_type": "markdown",
   "id": "70e7ffea-894c-43f2-8f3c-20f2b887e929",
   "metadata": {},
   "source": [
    "## Pandas Profiling Report"
   ]
  },
  {
   "cell_type": "code",
   "execution_count": 18,
   "id": "6cc88785-4a7b-49dc-b9a1-40f8bc40c458",
   "metadata": {},
   "outputs": [],
   "source": [
    "# # # Pandas_Profiling_Report\n",
    "# profile = ProfileReport(df_train)\n",
    "# profile.to_file(\"Pandas_Profiling_Report_ML_dataset.html\")"
   ]
  },
  {
   "cell_type": "code",
   "execution_count": 19,
   "id": "5ac588ce-4215-4873-8146-be9860527002",
   "metadata": {},
   "outputs": [
    {
     "data": {
      "text/html": [
       "<div>\n",
       "<style scoped>\n",
       "    .dataframe tbody tr th:only-of-type {\n",
       "        vertical-align: middle;\n",
       "    }\n",
       "\n",
       "    .dataframe tbody tr th {\n",
       "        vertical-align: top;\n",
       "    }\n",
       "\n",
       "    .dataframe thead th {\n",
       "        text-align: right;\n",
       "    }\n",
       "</style>\n",
       "<table border=\"1\" class=\"dataframe\">\n",
       "  <thead>\n",
       "    <tr style=\"text-align: right;\">\n",
       "      <th></th>\n",
       "      <th>contract_segment</th>\n",
       "      <th>contract_value</th>\n",
       "      <th>contract_date</th>\n",
       "      <th>customer_type</th>\n",
       "      <th>client_line_of_business</th>\n",
       "      <th>unneccesary_flag</th>\n",
       "      <th>contract_base</th>\n",
       "      <th>Level1</th>\n",
       "      <th>Level_3</th>\n",
       "      <th>Level2</th>\n",
       "      <th>internet_line</th>\n",
       "      <th>store city</th>\n",
       "      <th>code</th>\n",
       "      <th>usage of internet</th>\n",
       "      <th>customer Id</th>\n",
       "      <th>validity_st</th>\n",
       "      <th>validity_end</th>\n",
       "      <th>contract_length</th>\n",
       "      <th>contract_age</th>\n",
       "    </tr>\n",
       "  </thead>\n",
       "  <tbody>\n",
       "    <tr>\n",
       "      <th>0</th>\n",
       "      <td>Level1</td>\n",
       "      <td>78.216902</td>\n",
       "      <td>2004-04-15</td>\n",
       "      <td>Near Term</td>\n",
       "      <td>Type2</td>\n",
       "      <td>0</td>\n",
       "      <td>Type1</td>\n",
       "      <td>Base Service</td>\n",
       "      <td>Internet Service office</td>\n",
       "      <td>Service 1</td>\n",
       "      <td>Internet</td>\n",
       "      <td>MADURAI</td>\n",
       "      <td>NaN</td>\n",
       "      <td>Calling</td>\n",
       "      <td>551617</td>\n",
       "      <td>2004-07-01</td>\n",
       "      <td>2004-10-31</td>\n",
       "      <td>0.334247</td>\n",
       "      <td>18.424658</td>\n",
       "    </tr>\n",
       "    <tr>\n",
       "      <th>5</th>\n",
       "      <td>Level2</td>\n",
       "      <td>58.628879</td>\n",
       "      <td>2004-11-07</td>\n",
       "      <td>Near Term</td>\n",
       "      <td>Type2</td>\n",
       "      <td>0</td>\n",
       "      <td>Type1</td>\n",
       "      <td>Base Service</td>\n",
       "      <td>Internet Service office</td>\n",
       "      <td>Service 1</td>\n",
       "      <td>Internet</td>\n",
       "      <td>MADURAI</td>\n",
       "      <td>NaN</td>\n",
       "      <td>Calling</td>\n",
       "      <td>551617</td>\n",
       "      <td>2005-01-01</td>\n",
       "      <td>2005-02-28</td>\n",
       "      <td>0.158904</td>\n",
       "      <td>17.860274</td>\n",
       "    </tr>\n",
       "    <tr>\n",
       "      <th>7</th>\n",
       "      <td>Level4</td>\n",
       "      <td>75.540066</td>\n",
       "      <td>2004-11-25</td>\n",
       "      <td>Near Term</td>\n",
       "      <td>Type2</td>\n",
       "      <td>0</td>\n",
       "      <td>Type1</td>\n",
       "      <td>Base Service</td>\n",
       "      <td>Internet Service office</td>\n",
       "      <td>Service 1</td>\n",
       "      <td>Internet</td>\n",
       "      <td>MADURAI</td>\n",
       "      <td>NaN</td>\n",
       "      <td>Calling</td>\n",
       "      <td>551617</td>\n",
       "      <td>2004-11-25</td>\n",
       "      <td>2004-11-30</td>\n",
       "      <td>0.013699</td>\n",
       "      <td>17.810959</td>\n",
       "    </tr>\n",
       "    <tr>\n",
       "      <th>8</th>\n",
       "      <td>Level4</td>\n",
       "      <td>75.384003</td>\n",
       "      <td>2004-11-26</td>\n",
       "      <td>Near Term</td>\n",
       "      <td>Type2</td>\n",
       "      <td>0</td>\n",
       "      <td>Type1</td>\n",
       "      <td>Base Service</td>\n",
       "      <td>Internet Service office</td>\n",
       "      <td>Service 1</td>\n",
       "      <td>Internet</td>\n",
       "      <td>MADURAI</td>\n",
       "      <td>NaN</td>\n",
       "      <td>Calling</td>\n",
       "      <td>551617</td>\n",
       "      <td>2004-12-01</td>\n",
       "      <td>2004-12-31</td>\n",
       "      <td>0.082192</td>\n",
       "      <td>17.808219</td>\n",
       "    </tr>\n",
       "    <tr>\n",
       "      <th>9</th>\n",
       "      <td>Level1</td>\n",
       "      <td>59.372384</td>\n",
       "      <td>2004-12-03</td>\n",
       "      <td>Near Term</td>\n",
       "      <td>Type2</td>\n",
       "      <td>0</td>\n",
       "      <td>Type1</td>\n",
       "      <td>Base Service</td>\n",
       "      <td>Internet Service office</td>\n",
       "      <td>Service 1</td>\n",
       "      <td>Internet</td>\n",
       "      <td>MADURAI</td>\n",
       "      <td>NaN</td>\n",
       "      <td>Calling</td>\n",
       "      <td>551617</td>\n",
       "      <td>2005-03-01</td>\n",
       "      <td>2005-03-31</td>\n",
       "      <td>0.082192</td>\n",
       "      <td>17.789041</td>\n",
       "    </tr>\n",
       "  </tbody>\n",
       "</table>\n",
       "</div>"
      ],
      "text/plain": [
       "  contract_segment  contract_value contract_date customer_type  \\\n",
       "0          Level1        78.216902    2004-04-15     Near Term   \n",
       "5           Level2       58.628879    2004-11-07     Near Term   \n",
       "7           Level4       75.540066    2004-11-25     Near Term   \n",
       "8           Level4       75.384003    2004-11-26     Near Term   \n",
       "9          Level1        59.372384    2004-12-03     Near Term   \n",
       "\n",
       "  client_line_of_business  unneccesary_flag contract_base        Level1  \\\n",
       "0                   Type2                 0        Type1   Base Service   \n",
       "5                   Type2                 0        Type1   Base Service   \n",
       "7                   Type2                 0        Type1   Base Service   \n",
       "8                   Type2                 0        Type1   Base Service   \n",
       "9                   Type2                 0        Type1   Base Service   \n",
       "\n",
       "                   Level_3   Level2   internet_line store city code  \\\n",
       "0  Internet Service office  Service 1      Internet    MADURAI  NaN   \n",
       "5  Internet Service office  Service 1      Internet    MADURAI  NaN   \n",
       "7  Internet Service office  Service 1      Internet    MADURAI  NaN   \n",
       "8  Internet Service office  Service 1      Internet    MADURAI  NaN   \n",
       "9  Internet Service office  Service 1      Internet    MADURAI  NaN   \n",
       "\n",
       "  usage of internet  customer Id validity_st validity_end  contract_length  \\\n",
       "0           Calling       551617  2004-07-01   2004-10-31         0.334247   \n",
       "5           Calling       551617  2005-01-01   2005-02-28         0.158904   \n",
       "7           Calling       551617  2004-11-25   2004-11-30         0.013699   \n",
       "8           Calling       551617  2004-12-01   2004-12-31         0.082192   \n",
       "9           Calling       551617  2005-03-01   2005-03-31         0.082192   \n",
       "\n",
       "   contract_age  \n",
       "0     18.424658  \n",
       "5     17.860274  \n",
       "7     17.810959  \n",
       "8     17.808219  \n",
       "9     17.789041  "
      ]
     },
     "execution_count": 19,
     "metadata": {},
     "output_type": "execute_result"
    }
   ],
   "source": [
    "df_train.head()"
   ]
  },
  {
   "cell_type": "code",
   "execution_count": 20,
   "id": "ca5c39d1-5891-4473-b98a-21b5b5e5b11e",
   "metadata": {},
   "outputs": [],
   "source": [
    "df_train.to_csv('./data/df_train.csv')"
   ]
  },
  {
   "cell_type": "markdown",
   "id": "5361725d-8faf-448b-9a76-8e4fdec2ae80",
   "metadata": {},
   "source": [
    "## Outlier Detection"
   ]
  },
  {
   "cell_type": "code",
   "execution_count": null,
   "id": "c206cc1e-19c4-4e15-ae66-774a958187f1",
   "metadata": {},
   "outputs": [],
   "source": []
  },
  {
   "cell_type": "markdown",
   "id": "e1fbb121-b085-452c-91bc-8192907adf3e",
   "metadata": {
    "tags": []
   },
   "source": [
    "## Distribution checker / scatter plots"
   ]
  },
  {
   "cell_type": "code",
   "execution_count": 24,
   "id": "611d053c-0ec3-4168-ba9c-6b4fb479443e",
   "metadata": {},
   "outputs": [],
   "source": [
    "target_col = 'contract_value'\n",
    "feature_cols = list(set(df.columns)-set(['orig_index',target_col, 'validity_end','validity_st','contract_date', 'customer Id' ]))\n"
   ]
  },
  {
   "cell_type": "code",
   "execution_count": 22,
   "id": "83499ea2-0a76-4d9b-84d4-0664a406f85e",
   "metadata": {},
   "outputs": [
    {
     "data": {
      "text/plain": [
       "<AxesSubplot:xlabel='contract_length', ylabel='contract_value'>"
      ]
     },
     "execution_count": 22,
     "metadata": {},
     "output_type": "execute_result"
    },
    {
     "data": {
      "image/png": "[encoded data removed]",
      "text/plain": [
       "<Figure size 576x432 with 1 Axes>"
      ]
     },
     "metadata": {
      "needs_background": "light"
     },
     "output_type": "display_data"
    }
   ],
   "source": [
    "value_col='contract_length'\n",
    "target_col='contract_value'\n",
    "\n",
    "fig,ax = plt.subplots(figsize = [8,6])\n",
    "sns.lineplot(x=df[value_col],y=df[target_col], ax=ax)"
   ]
  },
  {
   "cell_type": "code",
   "execution_count": 37,
   "id": "6696d4ae-159a-420a-88fc-4d0ed5797de4",
   "metadata": {},
   "outputs": [
    {
     "data": {
      "text/plain": [
       "<AxesSubplot:xlabel='usage of internet', ylabel='contract_value'>"
      ]
     },
     "execution_count": 37,
     "metadata": {},
     "output_type": "execute_result"
    },
    {
     "data": {
      "image/png": "[encoded data removed]",
      "text/plain": [
       "<Figure size 864x432 with 1 Axes>"
      ]
     },
     "metadata": {
      "needs_background": "light"
     },
     "output_type": "display_data"
    }
   ],
   "source": [
    "# for c in ['contract_length','contract_age', 'usage of internet', 'customer_type', 'Level2  ', 'store city',]:\n",
    "fig,ax = plt.subplots(figsize = [12,6])\n",
    "plt.xticks(rotation=90, ha='right')\n",
    "sns.lineplot(x=df['usage of internet'],y=df[target_col],ax=ax)"
   ]
  },
  {
   "cell_type": "code",
   "execution_count": 38,
   "id": "8cba2b29-9cb7-40df-a336-f37a74eb9b16",
   "metadata": {},
   "outputs": [
    {
     "data": {
      "text/plain": [
       "<AxesSubplot:xlabel='Level2  ', ylabel='contract_value'>"
      ]
     },
     "execution_count": 38,
     "metadata": {},
     "output_type": "execute_result"
    },
    {
     "data": {
      "image/png": "[encoded data removed]",
      "text/plain": [
       "<Figure size 864x432 with 1 Axes>"
      ]
     },
     "metadata": {
      "needs_background": "light"
     },
     "output_type": "display_data"
    }
   ],
   "source": [
    "fig,ax = plt.subplots(figsize = [12,6])\n",
    "plt.xticks(rotation=90, ha='right')\n",
    "sns.lineplot(x=df['Level2  '],y=df[target_col],ax=ax)"
   ]
  },
  {
   "cell_type": "markdown",
   "id": "f43b9cc7-865e-49e6-9eb6-212c179cc0c0",
   "metadata": {},
   "source": [
    "## Reference/Deprecated"
   ]
  },
  {
   "cell_type": "code",
   "execution_count": 25,
   "id": "e013e47f-e288-4882-9da6-5136d4758457",
   "metadata": {},
   "outputs": [],
   "source": [
    "# plt.figure(figsize=(12,8))\n",
    "# ax.set_xticklabels(groupeddf[value_col], rotation = 90)"
   ]
  },
  {
   "cell_type": "code",
   "execution_count": null,
   "id": "191daea0-d1f4-4ca2-9697-73df607888db",
   "metadata": {},
   "outputs": [],
   "source": []
  }
 ],
 "metadata": {
  "kernelspec": {
   "display_name": "Python 3 (ipykernel)",
   "language": "python",
   "name": "python3"
  },
  "language_info": {
   "codemirror_mode": {
    "name": "ipython",
    "version": 3
   },
   "file_extension": ".py",
   "mimetype": "text/x-python",
   "name": "python",
   "nbconvert_exporter": "python",
   "pygments_lexer": "ipython3",
   "version": "3.9.7"
  }
 },
 "nbformat": 4,
 "nbformat_minor": 5
}
